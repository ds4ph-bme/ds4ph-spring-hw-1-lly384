{
  "nbformat": 4,
  "nbformat_minor": 0,
  "metadata": {
    "colab": {
      "provenance": []
    },
    "kernelspec": {
      "name": "python3",
      "display_name": "Python 3"
    },
    "language_info": {
      "name": "python"
    }
  },
  "cells": [
    {
      "cell_type": "markdown",
      "source": [],
      "metadata": {
        "id": "cK6IxzJpWzxz"
      }
    },
    {
      "cell_type": "markdown",
      "source": [
        "Thalia Liu\n",
        "JHED: tliu73"
      ],
      "metadata": {
        "id": "5ZBv93XlW2BD"
      }
    },
    {
      "cell_type": "code",
      "source": [
        "4 + 4"
      ],
      "metadata": {
        "colab": {
          "base_uri": "https://localhost:8080/"
        },
        "id": "G40MAwbEW4jF",
        "outputId": "045acb16-d3cc-4e6e-d1cd-dec1c1a95998"
      },
      "execution_count": null,
      "outputs": [
        {
          "output_type": "execute_result",
          "data": {
            "text/plain": [
              "8"
            ]
          },
          "metadata": {},
          "execution_count": 2
        }
      ]
    },
    {
      "cell_type": "markdown",
      "source": [
        "# Data Science for Public Health I"
      ],
      "metadata": {
        "id": "ClGEqydRW7HM"
      }
    }
  ]
}